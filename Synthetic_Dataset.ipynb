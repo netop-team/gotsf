{
 "cells": [
  {
   "cell_type": "code",
   "execution_count": 116,
   "id": "initial_id",
   "metadata": {
    "ExecuteTime": {
     "end_time": "2025-03-06T15:37:34.611495Z",
     "start_time": "2025-03-06T15:37:27.172747Z"
    }
   },
   "outputs": [],
   "source": [
    "import sys  \n",
    "# sys.path.insert(1, '/home/t00876569/scaling_timeseries/')\n",
    "import matplotlib.pyplot as plt\n",
    "import pandas as pd\n",
    "import seaborn as sns\n",
    "import numpy as np\n",
    "import hvplot.pandas\n",
    "import holoviews as hv\n",
    "import random\n",
    "from collections import namedtuple\n",
    "from script_stats import ModelEvaluator\n",
    "from collections import namedtuple\n",
    "\n",
    "hv.renderer('bokeh').theme = 'dark_minimal'\n",
    "%matplotlib inline"
   ]
  },
  {
   "cell_type": "code",
   "execution_count": 117,
   "id": "e1d9a17d-7bbe-455b-8f20-98a78fae7467",
   "metadata": {
    "ExecuteTime": {
     "end_time": "2025-03-06T15:39:04.014740Z",
     "start_time": "2025-03-06T15:39:03.978410Z"
    }
   },
   "outputs": [],
   "source": [
    "np.random.seed(43)\n",
    "N = 1\n",
    "T = 24 * 3\n",
    "_N = 4.0\n",
    "P = 24\n",
    "size_vali_test = 12\n",
    "std = 0.05\n",
    "\n",
    "\n",
    "signals = [np.arange(T * (2 * P)).astype(int) + 1]\n",
    "input_signal = np.sin(np.pi / (2 * P) * np.arange(P)) \n",
    "\n",
    "eps = 1e-6\n",
    "eps2 = 5e-6\n",
    "S = (1 - eps2) * np.sin(np.pi / (2 * (P - 1)) * np.arange(P) + np.pi / 2) / _N\n",
    "\n",
    "# output = [\n",
    "#     (np.sin(np.pi / (2 * P) * np.arange(P) + np.pi / 2) / _N + 0.75 - 0 * 0.25),\n",
    "#     (np.sin(np.pi / (2 * P) * np.arange(P) + np.pi / 2) / _N + 0.75 - 1 * 0.25),\n",
    "#     (np.sin(np.pi / (2 * P) * np.arange(P) + np.pi / 2) / _N + 0.75 - 2 * 0.25),\n",
    "#     (np.sin(np.pi / (2 * P) * np.arange(P) + np.pi / 2) / _N + 0.75 - 3 * 0.25)\n",
    "# ]\n",
    "# out =  np.sin(np.pi / (2 * (P - 1)) * np.arange(P) + np.pi / 2) / _N + eps)\n",
    "\n",
    "# output = [\n",
    "#     ((1 - eps2) * np.sin(np.pi / (2 * (P - 1)) * np.arange(P) + np.pi / 2) / _N + eps + 0.75),\n",
    "#     ((1 - eps2) * np.sin(np.pi / (2 * (P - 1)) * np.arange(P) + np.pi / 2) / _N + eps + 0.5),\n",
    "#     (-(1 - eps2) * np.sin(np.pi / (2 * (P - 1)) * np.arange(P) + np.pi / 2) / _N + eps + 0.25),\n",
    "#     (-(1 - eps2) * np.sin(np.pi / (2 * (P - 1)) * np.arange(P) + np.pi / 2) / _N + eps + 0.5)\n",
    "# ]\n",
    "\n",
    "output = [S + 0.75 + eps, S + 0.5 + eps, -S + 0.25 - eps, -S + 0.5 - eps]\n",
    "\n",
    "for __ in range(N):\n",
    "    signal = []\n",
    "    train_signals = []\n",
    "    for order in range(T - 2 * size_vali_test):\n",
    "        train_signal = []\n",
    "        train_signal.extend(input_signal)\n",
    "        train_signal.extend(output[order % 4])\n",
    "        train_signals.append(train_signal)\n",
    "    random.shuffle(train_signals)\n",
    "    for it_train_signal in train_signals:\n",
    "        signal.extend(it_train_signal)\n",
    "    \n",
    "    for order in range(2 * size_vali_test):\n",
    "        signal.extend(input_signal)\n",
    "        signal.extend(output[order % 4])\n",
    "    \n",
    "    signal = np.array(signal)\n",
    "    signal +=  np.random.normal(loc=0, scale=std, size=signal.size)\n",
    "    signals.append(signal)"
   ]
  },
  {
   "cell_type": "code",
   "execution_count": 118,
   "id": "d05d63a9-23ab-45f1-9564-0b3e4d9eeaeb",
   "metadata": {
    "ExecuteTime": {
     "end_time": "2025-03-06T15:39:04.349153Z",
     "start_time": "2025-03-06T15:39:04.332815Z"
    }
   },
   "outputs": [
    {
     "data": {
      "text/plain": [
       "(3456, 2)"
      ]
     },
     "execution_count": 118,
     "metadata": {},
     "output_type": "execute_result"
    }
   ],
   "source": [
    "df = pd.DataFrame(np.array(signals).T, columns=['date'] + [f'V-{i}' for i in range(N-1)] + ['OT'])\n",
    "df ['date'] = df['date'].astype(int)\n",
    "df.shape"
   ]
  },
  {
   "cell_type": "code",
   "execution_count": 119,
   "id": "7e5a39c3-0587-4a0d-80d0-c11383bc525b",
   "metadata": {
    "ExecuteTime": {
     "end_time": "2025-03-06T15:39:07.161726Z",
     "start_time": "2025-03-06T15:39:06.742113Z"
    }
   },
   "outputs": [
    {
     "data": {},
     "metadata": {},
     "output_type": "display_data"
    },
    {
     "data": {
      "application/vnd.holoviews_exec.v0+json": "",
      "text/html": [
       "<div id='p3656'>\n",
       "  <div id=\"eb9206f7-8374-41b0-82a1-7b604e08eff7\" data-root-id=\"p3656\" style=\"display: contents;\"></div>\n",
       "</div>\n",
       "<script type=\"application/javascript\">(function(root) {\n",
       "  var docs_json = {\"bb86a368-fcce-4688-9ea6-2b6cab4ac745\":{\"version\":\"3.3.4\",\"title\":\"Bokeh Application\",\"roots\":[{\"type\":\"object\",\"name\":\"Row\",\"id\":\"p3656\",\"attributes\":{\"name\":\"Row13387\",\"tags\":[\"embedded\"],\"stylesheets\":[\"\\n:host(.pn-loading.pn-arc):before, .pn-loading.pn-arc:before {\\n  background-image: url(\\\"data:image/svg+xml;base64,PHN2ZyB4bWxucz0iaHR0cDovL3d3dy53My5vcmcvMjAwMC9zdmciIHN0eWxlPSJtYXJnaW46IGF1dG87IGJhY2tncm91bmQ6IG5vbmU7IGRpc3BsYXk6IGJsb2NrOyBzaGFwZS1yZW5kZXJpbmc6IGF1dG87IiB2aWV3Qm94PSIwIDAgMTAwIDEwMCIgcHJlc2VydmVBc3BlY3RSYXRpbz0ieE1pZFlNaWQiPiAgPGNpcmNsZSBjeD0iNTAiIGN5PSI1MCIgZmlsbD0ibm9uZSIgc3Ryb2tlPSIjYzNjM2MzIiBzdHJva2Utd2lkdGg9IjEwIiByPSIzNSIgc3Ryb2tlLWRhc2hhcnJheT0iMTY0LjkzMzYxNDMxMzQ2NDE1IDU2Ljk3Nzg3MTQzNzgyMTM4Ij4gICAgPGFuaW1hdGVUcmFuc2Zvcm0gYXR0cmlidXRlTmFtZT0idHJhbnNmb3JtIiB0eXBlPSJyb3RhdGUiIHJlcGVhdENvdW50PSJpbmRlZmluaXRlIiBkdXI9IjFzIiB2YWx1ZXM9IjAgNTAgNTA7MzYwIDUwIDUwIiBrZXlUaW1lcz0iMDsxIj48L2FuaW1hdGVUcmFuc2Zvcm0+ICA8L2NpcmNsZT48L3N2Zz4=\\\");\\n  background-size: auto calc(min(50%, 400px));\\n}\",{\"type\":\"object\",\"name\":\"ImportedStyleSheet\",\"id\":\"p3659\",\"attributes\":{\"url\":\"https://cdn.holoviz.org/panel/1.3.8/dist/css/loading.css\"}},{\"type\":\"object\",\"name\":\"ImportedStyleSheet\",\"id\":\"p3873\",\"attributes\":{\"url\":\"https://cdn.holoviz.org/panel/1.3.8/dist/css/listpanel.css\"}},{\"type\":\"object\",\"name\":\"ImportedStyleSheet\",\"id\":\"p3657\",\"attributes\":{\"url\":\"https://cdn.holoviz.org/panel/1.3.8/dist/bundled/theme/default.css\"}},{\"type\":\"object\",\"name\":\"ImportedStyleSheet\",\"id\":\"p3658\",\"attributes\":{\"url\":\"https://cdn.holoviz.org/panel/1.3.8/dist/bundled/theme/native.css\"}}],\"min_width\":1000,\"margin\":0,\"sizing_mode\":\"stretch_width\",\"align\":\"start\",\"children\":[{\"type\":\"object\",\"name\":\"Spacer\",\"id\":\"p3660\",\"attributes\":{\"name\":\"HSpacer13394\",\"stylesheets\":[\"\\n:host(.pn-loading.pn-arc):before, .pn-loading.pn-arc:before {\\n  background-image: url(\\\"data:image/svg+xml;base64,PHN2ZyB4bWxucz0iaHR0cDovL3d3dy53My5vcmcvMjAwMC9zdmciIHN0eWxlPSJtYXJnaW46IGF1dG87IGJhY2tncm91bmQ6IG5vbmU7IGRpc3BsYXk6IGJsb2NrOyBzaGFwZS1yZW5kZXJpbmc6IGF1dG87IiB2aWV3Qm94PSIwIDAgMTAwIDEwMCIgcHJlc2VydmVBc3BlY3RSYXRpbz0ieE1pZFlNaWQiPiAgPGNpcmNsZSBjeD0iNTAiIGN5PSI1MCIgZmlsbD0ibm9uZSIgc3Ryb2tlPSIjYzNjM2MzIiBzdHJva2Utd2lkdGg9IjEwIiByPSIzNSIgc3Ryb2tlLWRhc2hhcnJheT0iMTY0LjkzMzYxNDMxMzQ2NDE1IDU2Ljk3Nzg3MTQzNzgyMTM4Ij4gICAgPGFuaW1hdGVUcmFuc2Zvcm0gYXR0cmlidXRlTmFtZT0idHJhbnNmb3JtIiB0eXBlPSJyb3RhdGUiIHJlcGVhdENvdW50PSJpbmRlZmluaXRlIiBkdXI9IjFzIiB2YWx1ZXM9IjAgNTAgNTA7MzYwIDUwIDUwIiBrZXlUaW1lcz0iMDsxIj48L2FuaW1hdGVUcmFuc2Zvcm0+ICA8L2NpcmNsZT48L3N2Zz4=\\\");\\n  background-size: auto calc(min(50%, 400px));\\n}\",{\"id\":\"p3659\"},{\"id\":\"p3657\"},{\"id\":\"p3658\"}],\"margin\":0,\"sizing_mode\":\"stretch_width\",\"align\":\"start\"}},{\"type\":\"object\",\"name\":\"Figure\",\"id\":\"p3720\",\"attributes\":{\"width\":1000,\"height\":200,\"margin\":[5,10],\"sizing_mode\":\"fixed\",\"align\":\"start\",\"x_range\":{\"type\":\"object\",\"name\":\"Range1d\",\"id\":\"p3661\",\"attributes\":{\"tags\":[[[\"index\",\"index\",null]],[]],\"end\":499.0,\"reset_start\":0.0,\"reset_end\":499.0}},\"y_range\":{\"type\":\"object\",\"name\":\"Range1d\",\"id\":\"p3662\",\"attributes\":{\"tags\":[[[\"OT\",\"OT\",null]],{\"type\":\"map\",\"entries\":[[\"invert_yaxis\",false],[\"autorange\",false]]}],\"start\":-0.19755967427541388,\"end\":1.2211921636418455,\"reset_start\":-0.19755967427541388,\"reset_end\":1.2211921636418455}},\"x_scale\":{\"type\":\"object\",\"name\":\"LinearScale\",\"id\":\"p3730\"},\"y_scale\":{\"type\":\"object\",\"name\":\"LinearScale\",\"id\":\"p3731\"},\"title\":{\"type\":\"object\",\"name\":\"Title\",\"id\":\"p3723\",\"attributes\":{\"text\":\"OT\",\"text_color\":\"#E0E0E0\",\"text_font\":\"Helvetica\",\"text_font_size\":\"1.15em\"}},\"outline_line_color\":\"#E0E0E0\",\"outline_line_alpha\":0.25,\"renderers\":[{\"type\":\"object\",\"name\":\"GlyphRenderer\",\"id\":\"p3760\",\"attributes\":{\"name\":\"OT\",\"data_source\":{\"type\":\"object\",\"name\":\"ColumnDataSource\",\"id\":\"p3751\",\"attributes\":{\"selected\":{\"type\":\"object\",\"name\":\"Selection\",\"id\":\"p3752\",\"attributes\":{\"indices\":[],\"line_indices\":[]}},\"selection_policy\":{\"type\":\"object\",\"name\":\"UnionRenderers\",\"id\":\"p3753\"},\"data\":{\"type\":\"map\",\"entries\":[[\"index\",{\"type\":\"ndarray\",\"array\":{\"type\":\"bytes\",\"data\":\"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\"},\"shape\":[500],\"dtype\":\"int32\",\"order\":\"little\"}],[\"OT\",{\"type\":\"ndarray\",\"array\":{\"type\":\"bytes\",\"data\":\"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\"},\"shape\":[500],\"dtype\":\"float64\",\"order\":\"little\"}]]}}},\"view\":{\"type\":\"object\",\"name\":\"CDSView\",\"id\":\"p3761\",\"attributes\":{\"filter\":{\"type\":\"object\",\"name\":\"AllIndices\",\"id\":\"p3762\"}}},\"glyph\":{\"type\":\"object\",\"name\":\"Line\",\"id\":\"p3757\",\"attributes\":{\"tags\":[\"apply_ranges\"],\"x\":{\"type\":\"field\",\"field\":\"index\"},\"y\":{\"type\":\"field\",\"field\":\"OT\"},\"line_color\":\"#30a2da\",\"line_width\":2}},\"selection_glyph\":{\"type\":\"object\",\"name\":\"Line\",\"id\":\"p3765\",\"attributes\":{\"tags\":[\"apply_ranges\"],\"x\":{\"type\":\"field\",\"field\":\"index\"},\"y\":{\"type\":\"field\",\"field\":\"OT\"},\"line_color\":\"#30a2da\",\"line_width\":2}},\"nonselection_glyph\":{\"type\":\"object\",\"name\":\"Line\",\"id\":\"p3758\",\"attributes\":{\"tags\":[\"apply_ranges\"],\"x\":{\"type\":\"field\",\"field\":\"index\"},\"y\":{\"type\":\"field\",\"field\":\"OT\"},\"line_color\":\"#30a2da\",\"line_alpha\":0.1,\"line_width\":2}},\"muted_glyph\":{\"type\":\"object\",\"name\":\"Line\",\"id\":\"p3759\",\"attributes\":{\"tags\":[\"apply_ranges\"],\"x\":{\"type\":\"field\",\"field\":\"index\"},\"y\":{\"type\":\"field\",\"field\":\"OT\"},\"line_color\":\"#30a2da\",\"line_alpha\":0.2,\"line_width\":2}}}},{\"type\":\"object\",\"name\":\"Span\",\"id\":\"p3769\",\"attributes\":{\"level\":\"glyph\",\"location\":0,\"dimension\":\"height\",\"line_dash\":[6]}},{\"type\":\"object\",\"name\":\"Span\",\"id\":\"p3773\",\"attributes\":{\"level\":\"glyph\",\"location\":24,\"dimension\":\"height\",\"line_dash\":[6]}},{\"type\":\"object\",\"name\":\"Span\",\"id\":\"p3777\",\"attributes\":{\"level\":\"glyph\",\"location\":48,\"dimension\":\"height\",\"line_dash\":[6]}},{\"type\":\"object\",\"name\":\"Span\",\"id\":\"p3781\",\"attributes\":{\"level\":\"glyph\",\"location\":72,\"dimension\":\"height\",\"line_dash\":[6]}},{\"type\":\"object\",\"name\":\"Span\",\"id\":\"p3785\",\"attributes\":{\"level\":\"glyph\",\"location\":96,\"dimension\":\"height\",\"line_dash\":[6]}},{\"type\":\"object\",\"name\":\"Span\",\"id\":\"p3789\",\"attributes\":{\"level\":\"glyph\",\"location\":120,\"dimension\":\"height\",\"line_dash\":[6]}},{\"type\":\"object\",\"name\":\"Span\",\"id\":\"p3793\",\"attributes\":{\"level\":\"glyph\",\"location\":144,\"dimension\":\"height\",\"line_dash\":[6]}},{\"type\":\"object\",\"name\":\"Span\",\"id\":\"p3797\",\"attributes\":{\"level\":\"glyph\",\"location\":168,\"dimension\":\"height\",\"line_dash\":[6]}},{\"type\":\"object\",\"name\":\"Span\",\"id\":\"p3801\",\"attributes\":{\"level\":\"glyph\",\"location\":192,\"dimension\":\"height\",\"line_dash\":[6]}},{\"type\":\"object\",\"name\":\"Span\",\"id\":\"p3805\",\"attributes\":{\"level\":\"glyph\",\"location\":216,\"dimension\":\"height\",\"line_dash\":[6]}},{\"type\":\"object\",\"name\":\"Span\",\"id\":\"p3809\",\"attributes\":{\"level\":\"glyph\",\"location\":240,\"dimension\":\"height\",\"line_dash\":[6]}},{\"type\":\"object\",\"name\":\"Span\",\"id\":\"p3813\",\"attributes\":{\"level\":\"glyph\",\"location\":264,\"dimension\":\"height\",\"line_dash\":[6]}},{\"type\":\"object\",\"name\":\"Span\",\"id\":\"p3817\",\"attributes\":{\"level\":\"glyph\",\"location\":288,\"dimension\":\"height\",\"line_dash\":[6]}},{\"type\":\"object\",\"name\":\"Span\",\"id\":\"p3821\",\"attributes\":{\"level\":\"glyph\",\"location\":312,\"dimension\":\"height\",\"line_dash\":[6]}},{\"type\":\"object\",\"name\":\"Span\",\"id\":\"p3825\",\"attributes\":{\"level\":\"glyph\",\"location\":336,\"dimension\":\"height\",\"line_dash\":[6]}},{\"type\":\"object\",\"name\":\"Span\",\"id\":\"p3829\",\"attributes\":{\"level\":\"glyph\",\"location\":360,\"dimension\":\"height\",\"line_dash\":[6]}},{\"type\":\"object\",\"name\":\"Span\",\"id\":\"p3833\",\"attributes\":{\"level\":\"glyph\",\"location\":384,\"dimension\":\"height\",\"line_dash\":[6]}},{\"type\":\"object\",\"name\":\"Span\",\"id\":\"p3837\",\"attributes\":{\"level\":\"glyph\",\"location\":408,\"dimension\":\"height\",\"line_dash\":[6]}},{\"type\":\"object\",\"name\":\"Span\",\"id\":\"p3841\",\"attributes\":{\"level\":\"glyph\",\"location\":432,\"dimension\":\"height\",\"line_dash\":[6]}},{\"type\":\"object\",\"name\":\"Span\",\"id\":\"p3845\",\"attributes\":{\"level\":\"glyph\",\"location\":456,\"dimension\":\"height\",\"line_dash\":[6]}},{\"type\":\"object\",\"name\":\"Span\",\"id\":\"p3849\",\"attributes\":{\"level\":\"glyph\",\"location\":480,\"dimension\":\"height\",\"line_dash\":[6]}},{\"type\":\"object\",\"name\":\"Span\",\"id\":\"p3853\",\"attributes\":{\"level\":\"glyph\",\"location\":0.0,\"line_dash\":[6]}},{\"type\":\"object\",\"name\":\"Span\",\"id\":\"p3857\",\"attributes\":{\"level\":\"glyph\",\"location\":0.25,\"line_dash\":[6]}},{\"type\":\"object\",\"name\":\"Span\",\"id\":\"p3861\",\"attributes\":{\"level\":\"glyph\",\"location\":0.5,\"line_dash\":[6]}},{\"type\":\"object\",\"name\":\"Span\",\"id\":\"p3865\",\"attributes\":{\"level\":\"glyph\",\"location\":0.75,\"line_dash\":[6]}},{\"type\":\"object\",\"name\":\"Span\",\"id\":\"p3869\",\"attributes\":{\"level\":\"glyph\",\"location\":1.0,\"line_dash\":[6]}}],\"toolbar\":{\"type\":\"object\",\"name\":\"Toolbar\",\"id\":\"p3729\",\"attributes\":{\"tools\":[{\"type\":\"object\",\"name\":\"WheelZoomTool\",\"id\":\"p3666\",\"attributes\":{\"tags\":[\"hv_created\"],\"renderers\":\"auto\",\"zoom_together\":\"none\"}},{\"type\":\"object\",\"name\":\"HoverTool\",\"id\":\"p3667\",\"attributes\":{\"tags\":[\"hv_created\"],\"renderers\":[{\"id\":\"p3760\"}],\"tooltips\":[[\"index\",\"@{index}\"],[\"OT\",\"@{OT}\"]]}},{\"type\":\"object\",\"name\":\"SaveTool\",\"id\":\"p3742\"},{\"type\":\"object\",\"name\":\"PanTool\",\"id\":\"p3743\"},{\"type\":\"object\",\"name\":\"BoxZoomTool\",\"id\":\"p3744\",\"attributes\":{\"overlay\":{\"type\":\"object\",\"name\":\"BoxAnnotation\",\"id\":\"p3745\",\"attributes\":{\"syncable\":false,\"level\":\"overlay\",\"visible\":false,\"left\":{\"type\":\"number\",\"value\":\"nan\"},\"right\":{\"type\":\"number\",\"value\":\"nan\"},\"top\":{\"type\":\"number\",\"value\":\"nan\"},\"bottom\":{\"type\":\"number\",\"value\":\"nan\"},\"left_units\":\"canvas\",\"right_units\":\"canvas\",\"top_units\":\"canvas\",\"bottom_units\":\"canvas\",\"line_color\":\"black\",\"line_alpha\":1.0,\"line_width\":2,\"line_dash\":[4,4],\"fill_color\":\"lightgrey\",\"fill_alpha\":0.5}}}},{\"type\":\"object\",\"name\":\"ResetTool\",\"id\":\"p3750\"}],\"active_drag\":{\"id\":\"p3743\"},\"active_scroll\":{\"id\":\"p3666\"}}},\"left\":[{\"type\":\"object\",\"name\":\"LinearAxis\",\"id\":\"p3737\",\"attributes\":{\"ticker\":{\"type\":\"object\",\"name\":\"BasicTicker\",\"id\":\"p3738\",\"attributes\":{\"mantissas\":[1,2,5]}},\"formatter\":{\"type\":\"object\",\"name\":\"BasicTickFormatter\",\"id\":\"p3739\"},\"axis_label\":\"\",\"axis_label_standoff\":10,\"axis_label_text_color\":\"#E0E0E0\",\"axis_label_text_font\":\"Helvetica\",\"axis_label_text_font_size\":\"1.25em\",\"axis_label_text_font_style\":\"normal\",\"major_label_policy\":{\"type\":\"object\",\"name\":\"AllLabels\",\"id\":\"p3740\"},\"major_label_text_color\":\"#E0E0E0\",\"major_label_text_font\":\"Helvetica\",\"major_label_text_font_size\":\"1.025em\",\"axis_line_color\":\"#E0E0E0\",\"axis_line_alpha\":0,\"major_tick_line_color\":\"#E0E0E0\",\"major_tick_line_alpha\":0,\"minor_tick_line_color\":\"#E0E0E0\",\"minor_tick_line_alpha\":0}}],\"below\":[{\"type\":\"object\",\"name\":\"LinearAxis\",\"id\":\"p3732\",\"attributes\":{\"ticker\":{\"type\":\"object\",\"name\":\"BasicTicker\",\"id\":\"p3733\",\"attributes\":{\"mantissas\":[1,2,5]}},\"formatter\":{\"type\":\"object\",\"name\":\"BasicTickFormatter\",\"id\":\"p3734\"},\"axis_label\":\"\",\"axis_label_standoff\":10,\"axis_label_text_color\":\"#E0E0E0\",\"axis_label_text_font\":\"Helvetica\",\"axis_label_text_font_size\":\"1.25em\",\"axis_label_text_font_style\":\"normal\",\"major_label_policy\":{\"type\":\"object\",\"name\":\"AllLabels\",\"id\":\"p3735\"},\"major_label_text_color\":\"#E0E0E0\",\"major_label_text_font\":\"Helvetica\",\"major_label_text_font_size\":\"1.025em\",\"axis_line_color\":\"#E0E0E0\",\"axis_line_alpha\":0,\"major_tick_line_color\":\"#E0E0E0\",\"major_tick_line_alpha\":0,\"minor_tick_line_color\":\"#E0E0E0\",\"minor_tick_line_alpha\":0}}],\"center\":[{\"type\":\"object\",\"name\":\"Grid\",\"id\":\"p3736\",\"attributes\":{\"axis\":{\"id\":\"p3732\"},\"grid_line_color\":null,\"grid_line_alpha\":0.25}},{\"type\":\"object\",\"name\":\"Grid\",\"id\":\"p3741\",\"attributes\":{\"dimension\":1,\"axis\":{\"id\":\"p3737\"},\"grid_line_color\":null,\"grid_line_alpha\":0.25}},{\"type\":\"object\",\"name\":\"Legend\",\"id\":\"p3763\",\"attributes\":{\"border_line_alpha\":0,\"background_fill_color\":\"#20262B\",\"background_fill_alpha\":0.25,\"label_text_color\":\"#E0E0E0\",\"label_text_font\":\"Helvetica\",\"label_text_font_size\":\"1.025em\",\"label_standoff\":8,\"glyph_width\":15,\"spacing\":8,\"items\":[]}}],\"background_fill_color\":\"#2b3035\",\"border_fill_color\":\"#212529\",\"min_border_top\":10,\"min_border_bottom\":10,\"min_border_left\":10,\"min_border_right\":10,\"output_backend\":\"webgl\"}},{\"type\":\"object\",\"name\":\"Spacer\",\"id\":\"p3871\",\"attributes\":{\"name\":\"HSpacer13395\",\"stylesheets\":[\"\\n:host(.pn-loading.pn-arc):before, .pn-loading.pn-arc:before {\\n  background-image: url(\\\"data:image/svg+xml;base64,PHN2ZyB4bWxucz0iaHR0cDovL3d3dy53My5vcmcvMjAwMC9zdmciIHN0eWxlPSJtYXJnaW46IGF1dG87IGJhY2tncm91bmQ6IG5vbmU7IGRpc3BsYXk6IGJsb2NrOyBzaGFwZS1yZW5kZXJpbmc6IGF1dG87IiB2aWV3Qm94PSIwIDAgMTAwIDEwMCIgcHJlc2VydmVBc3BlY3RSYXRpbz0ieE1pZFlNaWQiPiAgPGNpcmNsZSBjeD0iNTAiIGN5PSI1MCIgZmlsbD0ibm9uZSIgc3Ryb2tlPSIjYzNjM2MzIiBzdHJva2Utd2lkdGg9IjEwIiByPSIzNSIgc3Ryb2tlLWRhc2hhcnJheT0iMTY0LjkzMzYxNDMxMzQ2NDE1IDU2Ljk3Nzg3MTQzNzgyMTM4Ij4gICAgPGFuaW1hdGVUcmFuc2Zvcm0gYXR0cmlidXRlTmFtZT0idHJhbnNmb3JtIiB0eXBlPSJyb3RhdGUiIHJlcGVhdENvdW50PSJpbmRlZmluaXRlIiBkdXI9IjFzIiB2YWx1ZXM9IjAgNTAgNTA7MzYwIDUwIDUwIiBrZXlUaW1lcz0iMDsxIj48L2FuaW1hdGVUcmFuc2Zvcm0+ICA8L2NpcmNsZT48L3N2Zz4=\\\");\\n  background-size: auto calc(min(50%, 400px));\\n}\",{\"id\":\"p3659\"},{\"id\":\"p3657\"},{\"id\":\"p3658\"}],\"margin\":0,\"sizing_mode\":\"stretch_width\",\"align\":\"start\"}}]}}],\"defs\":[{\"type\":\"model\",\"name\":\"ReactiveHTML1\"},{\"type\":\"model\",\"name\":\"FlexBox1\",\"properties\":[{\"name\":\"align_content\",\"kind\":\"Any\",\"default\":\"flex-start\"},{\"name\":\"align_items\",\"kind\":\"Any\",\"default\":\"flex-start\"},{\"name\":\"flex_direction\",\"kind\":\"Any\",\"default\":\"row\"},{\"name\":\"flex_wrap\",\"kind\":\"Any\",\"default\":\"wrap\"},{\"name\":\"justify_content\",\"kind\":\"Any\",\"default\":\"flex-start\"}]},{\"type\":\"model\",\"name\":\"FloatPanel1\",\"properties\":[{\"name\":\"config\",\"kind\":\"Any\",\"default\":{\"type\":\"map\"}},{\"name\":\"contained\",\"kind\":\"Any\",\"default\":true},{\"name\":\"position\",\"kind\":\"Any\",\"default\":\"right-top\"},{\"name\":\"offsetx\",\"kind\":\"Any\",\"default\":null},{\"name\":\"offsety\",\"kind\":\"Any\",\"default\":null},{\"name\":\"theme\",\"kind\":\"Any\",\"default\":\"primary\"},{\"name\":\"status\",\"kind\":\"Any\",\"default\":\"normalized\"}]},{\"type\":\"model\",\"name\":\"GridStack1\",\"properties\":[{\"name\":\"mode\",\"kind\":\"Any\",\"default\":\"warn\"},{\"name\":\"ncols\",\"kind\":\"Any\",\"default\":null},{\"name\":\"nrows\",\"kind\":\"Any\",\"default\":null},{\"name\":\"allow_resize\",\"kind\":\"Any\",\"default\":true},{\"name\":\"allow_drag\",\"kind\":\"Any\",\"default\":true},{\"name\":\"state\",\"kind\":\"Any\",\"default\":[]}]},{\"type\":\"model\",\"name\":\"drag1\",\"properties\":[{\"name\":\"slider_width\",\"kind\":\"Any\",\"default\":5},{\"name\":\"slider_color\",\"kind\":\"Any\",\"default\":\"black\"},{\"name\":\"value\",\"kind\":\"Any\",\"default\":50}]},{\"type\":\"model\",\"name\":\"click1\",\"properties\":[{\"name\":\"terminal_output\",\"kind\":\"Any\",\"default\":\"\"},{\"name\":\"debug_name\",\"kind\":\"Any\",\"default\":\"\"},{\"name\":\"clears\",\"kind\":\"Any\",\"default\":0}]},{\"type\":\"model\",\"name\":\"copy_to_clipboard1\",\"properties\":[{\"name\":\"fill\",\"kind\":\"Any\",\"default\":\"none\"},{\"name\":\"value\",\"kind\":\"Any\",\"default\":null}]},{\"type\":\"model\",\"name\":\"FastWrapper1\",\"properties\":[{\"name\":\"object\",\"kind\":\"Any\",\"default\":null},{\"name\":\"style\",\"kind\":\"Any\",\"default\":null}]},{\"type\":\"model\",\"name\":\"NotificationAreaBase1\",\"properties\":[{\"name\":\"js_events\",\"kind\":\"Any\",\"default\":{\"type\":\"map\"}},{\"name\":\"position\",\"kind\":\"Any\",\"default\":\"bottom-right\"},{\"name\":\"_clear\",\"kind\":\"Any\",\"default\":0}]},{\"type\":\"model\",\"name\":\"NotificationArea1\",\"properties\":[{\"name\":\"js_events\",\"kind\":\"Any\",\"default\":{\"type\":\"map\"}},{\"name\":\"notifications\",\"kind\":\"Any\",\"default\":[]},{\"name\":\"position\",\"kind\":\"Any\",\"default\":\"bottom-right\"},{\"name\":\"_clear\",\"kind\":\"Any\",\"default\":0},{\"name\":\"types\",\"kind\":\"Any\",\"default\":[{\"type\":\"map\",\"entries\":[[\"type\",\"warning\"],[\"background\",\"#ffc107\"],[\"icon\",{\"type\":\"map\",\"entries\":[[\"className\",\"fas fa-exclamation-triangle\"],[\"tagName\",\"i\"],[\"color\",\"white\"]]}]]},{\"type\":\"map\",\"entries\":[[\"type\",\"info\"],[\"background\",\"#007bff\"],[\"icon\",{\"type\":\"map\",\"entries\":[[\"className\",\"fas fa-info-circle\"],[\"tagName\",\"i\"],[\"color\",\"white\"]]}]]}]}]},{\"type\":\"model\",\"name\":\"Notification\",\"properties\":[{\"name\":\"background\",\"kind\":\"Any\",\"default\":null},{\"name\":\"duration\",\"kind\":\"Any\",\"default\":3000},{\"name\":\"icon\",\"kind\":\"Any\",\"default\":null},{\"name\":\"message\",\"kind\":\"Any\",\"default\":\"\"},{\"name\":\"notification_type\",\"kind\":\"Any\",\"default\":null},{\"name\":\"_destroyed\",\"kind\":\"Any\",\"default\":false}]},{\"type\":\"model\",\"name\":\"TemplateActions1\",\"properties\":[{\"name\":\"open_modal\",\"kind\":\"Any\",\"default\":0},{\"name\":\"close_modal\",\"kind\":\"Any\",\"default\":0}]},{\"type\":\"model\",\"name\":\"BootstrapTemplateActions1\",\"properties\":[{\"name\":\"open_modal\",\"kind\":\"Any\",\"default\":0},{\"name\":\"close_modal\",\"kind\":\"Any\",\"default\":0}]},{\"type\":\"model\",\"name\":\"MaterialTemplateActions1\",\"properties\":[{\"name\":\"open_modal\",\"kind\":\"Any\",\"default\":0},{\"name\":\"close_modal\",\"kind\":\"Any\",\"default\":0}]}]}};\n",
       "  var render_items = [{\"docid\":\"bb86a368-fcce-4688-9ea6-2b6cab4ac745\",\"roots\":{\"p3656\":\"eb9206f7-8374-41b0-82a1-7b604e08eff7\"},\"root_ids\":[\"p3656\"]}];\n",
       "  var docs = Object.values(docs_json)\n",
       "  if (!docs) {\n",
       "    return\n",
       "  }\n",
       "  const py_version = docs[0].version.replace('rc', '-rc.').replace('.dev', '-dev.')\n",
       "  function embed_document(root) {\n",
       "    var Bokeh = get_bokeh(root)\n",
       "    Bokeh.embed.embed_items_notebook(docs_json, render_items);\n",
       "    for (const render_item of render_items) {\n",
       "      for (const root_id of render_item.root_ids) {\n",
       "\tconst id_el = document.getElementById(root_id)\n",
       "\tif (id_el.children.length && (id_el.children[0].className === 'bk-root')) {\n",
       "\t  const root_el = id_el.children[0]\n",
       "\t  root_el.id = root_el.id + '-rendered'\n",
       "\t}\n",
       "      }\n",
       "    }\n",
       "  }\n",
       "  function get_bokeh(root) {\n",
       "    if (root.Bokeh === undefined) {\n",
       "      return null\n",
       "    } else if (root.Bokeh.version !== py_version) {\n",
       "      if (root.Bokeh.versions === undefined || !root.Bokeh.versions.has(py_version)) {\n",
       "\treturn null\n",
       "      }\n",
       "      return root.Bokeh.versions.get(py_version);\n",
       "    } else if (root.Bokeh.version === py_version) {\n",
       "      return root.Bokeh\n",
       "    }\n",
       "    return null\n",
       "  }\n",
       "  function is_loaded(root) {\n",
       "    var Bokeh = get_bokeh(root)\n",
       "    return (Bokeh != null && Bokeh.Panel !== undefined)\n",
       "  }\n",
       "  if (is_loaded(root)) {\n",
       "    embed_document(root);\n",
       "  } else {\n",
       "    var attempts = 0;\n",
       "    var timer = setInterval(function(root) {\n",
       "      if (is_loaded(root)) {\n",
       "        clearInterval(timer);\n",
       "        embed_document(root);\n",
       "      } else if (document.readyState == \"complete\") {\n",
       "        attempts++;\n",
       "        if (attempts > 200) {\n",
       "          clearInterval(timer);\n",
       "\t  var Bokeh = get_bokeh(root)\n",
       "\t  if (Bokeh == null || Bokeh.Panel == null) {\n",
       "            console.warn(\"Panel: ERROR: Unable to run Panel code because Bokeh or Panel library is missing\");\n",
       "\t  } else {\n",
       "\t    console.warn(\"Panel: WARNING: Attempting to render but not all required libraries could be resolved.\")\n",
       "\t    embed_document(root)\n",
       "\t  }\n",
       "        }\n",
       "      }\n",
       "    }, 25, root)\n",
       "  }\n",
       "})(window);</script>"
      ],
      "text/plain": [
       ":Overlay\n",
       "   .Curve.OT    :Curve   [index]   (OT)\n",
       "   .VLine.I     :VLine   [x,y]\n",
       "   .VLine.II    :VLine   [x,y]\n",
       "   .VLine.III   :VLine   [x,y]\n",
       "   .VLine.IV    :VLine   [x,y]\n",
       "   .VLine.V     :VLine   [x,y]\n",
       "   .VLine.VI    :VLine   [x,y]\n",
       "   .VLine.VII   :VLine   [x,y]\n",
       "   .VLine.VIII  :VLine   [x,y]\n",
       "   .VLine.IX    :VLine   [x,y]\n",
       "   .VLine.X     :VLine   [x,y]\n",
       "   .VLine.XI    :VLine   [x,y]\n",
       "   .VLine.XII   :VLine   [x,y]\n",
       "   .VLine.XIII  :VLine   [x,y]\n",
       "   .VLine.XIV   :VLine   [x,y]\n",
       "   .VLine.XV    :VLine   [x,y]\n",
       "   .VLine.XVI   :VLine   [x,y]\n",
       "   .VLine.XVII  :VLine   [x,y]\n",
       "   .VLine.XVIII :VLine   [x,y]\n",
       "   .VLine.XIX   :VLine   [x,y]\n",
       "   .VLine.XX    :VLine   [x,y]\n",
       "   .VLine.XXI   :VLine   [x,y]\n",
       "   .HLine.I     :HLine   [x,y]\n",
       "   .HLine.II    :HLine   [x,y]\n",
       "   .HLine.III   :HLine   [x,y]\n",
       "   .HLine.IV    :HLine   [x,y]\n",
       "   .HLine.V     :HLine   [x,y]"
      ]
     },
     "execution_count": 119,
     "metadata": {
      "application/vnd.holoviews_exec.v0+json": {
       "id": "p3656"
      }
     },
     "output_type": "execute_result"
    }
   ],
   "source": [
    "i = 0\n",
    "_T = 500\n",
    "target = 'OT'\n",
    "O = (df[target]+i)[:_T].hvplot()\n",
    "for i in range(_T//24 + 1):\n",
    "    O = O*hv.VLine(i * 24,).opts( color = 'black', line_dash= 'dashed', line_width = 1.0)\n",
    "for k in range(1):\n",
    "    for i in range(5):\n",
    "        O = O*hv.HLine((i) * .25 + k * 1.5).opts( color = 'black', line_dash= 'dashed', line_width = 1.0)\n",
    "O = O.opts(height = 200, width = 1000)\n",
    "O"
   ]
  },
  {
   "cell_type": "code",
   "execution_count": 120,
   "id": "c4b24e51-b21c-405c-9d7e-507ba4bfdd88",
   "metadata": {},
   "outputs": [
    {
     "name": "stdout",
     "output_type": "stream",
     "text": [
      "0.750001 -> 0.9999997500000001\n",
      "0\n",
      "0.500001 -> 0.7499997500000001\n",
      "1\n",
      "2.5000000000818905e-07 -> 0.24999899999999997\n",
      "2\n",
      "0.25000025000000003 -> 0.49999899999999997\n",
      "3\n",
      "0.5\n"
     ]
    },
    {
     "data": {
      "image/png": "[encoded data removed]",
      "text/plain": [
       "<Figure size 640x480 with 1 Axes>"
      ]
     },
     "metadata": {},
     "output_type": "display_data"
    }
   ],
   "source": [
    "for i, out in enumerate(output):\n",
    "    print(min(out),'->',max(out))\n",
    "    plt.plot(out)\n",
    "    plt.plot(np.mean(output, axis = 0))\n",
    "    plt.fill_between([0,23],[i*.25]*2 ,[(i+1) * .25]*2, color =f'C{i}', alpha = .1)#[i*.25, (i+1)*.25])\n",
    "    print(i)\n",
    "print(np.mean(output, axis = 0)[0])"
   ]
  },
  {
   "cell_type": "code",
   "execution_count": 121,
   "id": "441c0586-7bc0-4801-9f0c-d5f58db57d64",
   "metadata": {
    "ExecuteTime": {
     "end_time": "2025-02-24T15:01:03.426714Z",
     "start_time": "2025-02-24T15:01:03.374030Z"
    }
   },
   "outputs": [],
   "source": [
    "df.to_csv(f'/home/l50046526/scaling_timeseries/dataset/wireless/toy_example_10_03_better_{std}_N_{N}_T_{df.shape[0]}.csv', index=False)"
   ]
  },
  {
   "cell_type": "code",
   "execution_count": null,
   "id": "b5bbeca3-0580-451f-b2bd-87f6a4a0d598",
   "metadata": {},
   "outputs": [],
   "source": []
  }
 ],
 "metadata": {
  "kernelspec": {
   "display_name": "Python 3 (ipykernel)",
   "language": "python",
   "name": "python3"
  },
  "language_info": {
   "codemirror_mode": {
    "name": "ipython",
    "version": 3
   },
   "file_extension": ".py",
   "mimetype": "text/x-python",
   "name": "python",
   "nbconvert_exporter": "python",
   "pygments_lexer": "ipython3",
   "version": "3.11.7"
  }
 },
 "nbformat": 4,
 "nbformat_minor": 5
}
